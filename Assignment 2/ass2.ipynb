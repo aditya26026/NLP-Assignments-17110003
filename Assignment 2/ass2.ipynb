{
 "cells": [
  {
   "cell_type": "code",
   "execution_count": 1,
   "metadata": {},
   "outputs": [],
   "source": [
    "from nltk.tokenize import sent_tokenize\n",
    "from sklearn.model_selection import train_test_split\n",
    "from nltk import ngrams"
   ]
  },
  {
   "cell_type": "code",
   "execution_count": 2,
   "metadata": {},
   "outputs": [],
   "source": [
    "text=open('speeches.txt','rt',encoding='utf-8')"
   ]
  },
  {
   "cell_type": "code",
   "execution_count": 3,
   "metadata": {},
   "outputs": [],
   "source": [
    "fin=text.read()"
   ]
  },
  {
   "cell_type": "code",
   "execution_count": 4,
   "metadata": {},
   "outputs": [],
   "source": [
    "fin=fin.replace('\\n', '')\n",
    "fin=fin.replace('.','. ')"
   ]
  },
  {
   "cell_type": "code",
   "execution_count": 5,
   "metadata": {},
   "outputs": [],
   "source": [
    "sen=sent_tokenize(fin)\n",
    "text.close()"
   ]
  },
  {
   "cell_type": "code",
   "execution_count": 6,
   "metadata": {},
   "outputs": [],
   "source": [
    "final=[]\n",
    "for i in sen:\n",
    "    final.append('<s> '+i.replace('.','').replace('?','').replace(',','').replace(' - ','')+' </s>')"
   ]
  },
  {
   "cell_type": "code",
   "execution_count": 7,
   "metadata": {},
   "outputs": [],
   "source": [
    "xTrain, xTest = train_test_split(final, test_size = 0.2, random_state = 0)"
   ]
  },
  {
   "cell_type": "code",
   "execution_count": 9,
   "metadata": {},
   "outputs": [],
   "source": [
    "big=dict()\n",
    "n = 2\n",
    "bc=0\n",
    "for sen in xTrain:\n",
    "    bigrams = ngrams(sen.split(), n)\n",
    "    for x in bigrams:\n",
    "        if(x not in big):\n",
    "            big[x]=1\n",
    "        else:\n",
    "            big[x]+=1\n",
    "        bc=bc+1       "
   ]
  },
  {
   "cell_type": "code",
   "execution_count": 10,
   "metadata": {},
   "outputs": [],
   "source": [
    "tri=dict()\n",
    "n = 3\n",
    "tc=0\n",
    "for sen in xTrain:\n",
    "    trigrams = ngrams(sen.split(), n)\n",
    "    for x in trigrams:\n",
    "        if(x not in tri):\n",
    "            tri[x]=1\n",
    "        else:\n",
    "            tri[x]=tri[x]+1\n",
    "        tc=tc+1    "
   ]
  },
  {
   "cell_type": "code",
   "execution_count": 11,
   "metadata": {},
   "outputs": [],
   "source": [
    "uni=dict()\n",
    "n = 1\n",
    "uc=0\n",
    "for sen in xTrain:\n",
    "    unigrams = ngrams(sen.split(), n)\n",
    "    for x in unigrams:\n",
    "        if(x[-1]=='.'):\n",
    "            x=x[:-2]\n",
    "        if(x not in uni):\n",
    "            uni[x]=1\n",
    "        else:\n",
    "            uni[x]=uni[x]+1\n",
    "        uc=uc+1    \n"
   ]
  },
  {
   "cell_type": "code",
   "execution_count": 12,
   "metadata": {},
   "outputs": [],
   "source": [
    "quad=dict()\n",
    "n = 4\n",
    "qc=0\n",
    "for sen in xTrain:\n",
    "    quadgrams = ngrams(sen.split(), n)\n",
    "    for x in quadgrams:\n",
    "        if(x not in quad):\n",
    "            quad[x]=1\n",
    "        else:\n",
    "            quad[x]=quad[x]+1\n",
    "        qc=qc+1    "
   ]
  },
  {
   "cell_type": "code",
   "execution_count": 13,
   "metadata": {
    "scrolled": true
   },
   "outputs": [
    {
     "data": {
      "text/plain": [
       "(162132, 148583, 135034, 121899)"
      ]
     },
     "execution_count": 13,
     "metadata": {},
     "output_type": "execute_result"
    }
   ],
   "source": [
    "uc,bc,tc,qc"
   ]
  },
  {
   "cell_type": "code",
   "execution_count": 14,
   "metadata": {},
   "outputs": [
    {
     "data": {
      "text/plain": [
       "(8043, 50617, 90373, 103141)"
      ]
     },
     "execution_count": 14,
     "metadata": {},
     "output_type": "execute_result"
    }
   ],
   "source": [
    "len(uni),len(big),len(tri),len(quad)"
   ]
  },
  {
   "cell_type": "code",
   "execution_count": 15,
   "metadata": {},
   "outputs": [],
   "source": [
    "MLEB=dict()\n",
    "for i in big:\n",
    "    MLEB[i]=big[i]/uni[i[:-1]]"
   ]
  },
  {
   "cell_type": "code",
   "execution_count": 16,
   "metadata": {},
   "outputs": [],
   "source": [
    "MLET=dict()\n",
    "for i in tri:\n",
    "    MLET[i]=tri[i]/big[i[:-1]]"
   ]
  },
  {
   "cell_type": "code",
   "execution_count": 17,
   "metadata": {},
   "outputs": [],
   "source": [
    "MLEQ=dict()\n",
    "for i in quad:\n",
    "    MLEQ[i]=quad[i]/tri[i[:-1]]"
   ]
  },
  {
   "cell_type": "code",
   "execution_count": 19,
   "metadata": {},
   "outputs": [],
   "source": [
    "MLEU=dict()\n",
    "for i in uni:\n",
    "    MLEU[i]=uni[i]/uc"
   ]
  },
  {
   "cell_type": "code",
   "execution_count": 20,
   "metadata": {},
   "outputs": [],
   "source": [
    "import numpy as np"
   ]
  },
  {
   "cell_type": "code",
   "execution_count": 145,
   "metadata": {},
   "outputs": [
    {
     "name": "stdout",
     "output_type": "stream",
     "text": [
      "<s>\n",
      "And so far behind for everything exactly but they can see what did I SAW CAMERAS OVER THE TRUMP NEVER EVER DONE TWO THINGS -- I just got a disaster which was watching it \" </s> "
     ]
    }
   ],
   "source": [
    "keys, values = zip(*MLEB.items()) \n",
    "values=list(values)\n",
    "x='<s>'\n",
    "b=[]\n",
    "c=[]\n",
    "print(x)\n",
    "for i in range(100):\n",
    "    s=0\n",
    "    for j in keys:\n",
    "        if(j[0]==x):\n",
    "            c.append(MLEB[j])\n",
    "            b.append(j)\n",
    "            s=1\n",
    "    if(s==0):\n",
    "        break\n",
    "    array=np.random.multinomial(1 , c , size=1)\n",
    "    for k in range(len(array[0])):\n",
    "        if(array[0][k]==1):\n",
    "            print(str(b[k][1]),end=' ')\n",
    "            x=b[k][1]\n",
    "    c=[]\n",
    "    b=[]     "
   ]
  },
  {
   "cell_type": "code",
   "execution_count": 373,
   "metadata": {},
   "outputs": [],
   "source": [
    "def predict_first(gram,n):\n",
    "    x=['<s>']\n",
    "    b=[]\n",
    "    c=[]\n",
    "    for i in range(n-2):\n",
    "        x=list(x)\n",
    "        keys, values = zip(*gram[i+1].items()) \n",
    "        values=list(values)\n",
    "        keys=list(keys)\n",
    "        for j in keys:\n",
    "            l=list(j)\n",
    "            if(l[:i+1]==x):\n",
    "                c.append(gram[i+1][j])\n",
    "                b.append(j)\n",
    "#         print(b,c)\n",
    "        array=np.random.multinomial(1 , c , size=1)\n",
    "        for k in range(len(array[0])):\n",
    "            if(array[0][k]==1):\n",
    "#                 print(str(b[k]),end=' ')\n",
    "                x=b[k]\n",
    "        b=[]\n",
    "        c=[]\n",
    "    return(list(x))\n",
    "def generator(gram,n,m):\n",
    "#     keys, values = zip(*gram[n-2].items()) \n",
    "#     values=list(values)\n",
    "#     x='<s>'\n",
    "#     b=[]\n",
    "#     c=[]\n",
    "#     for j in keys:\n",
    "#         if(j[0]==x):\n",
    "#             c.append(gram[n-2][j])\n",
    "#             b.append(j)\n",
    "#     c=np.array(c)\n",
    "#     c=c/sum(c)        \n",
    "#     array=np.random.multinomial(1 , c , size=1)\n",
    "#     for k in range(len(array[0])):\n",
    "#         if(array[0][k]==1):\n",
    "#             print(str(b[k][:n-1]),end=' ')\n",
    "#             x=b[k] \n",
    "    if(n==1):\n",
    "        keys, values = zip(*MLEU.items()) \n",
    "        values=list(values)\n",
    "        array=np.random.multinomial(1 , values , size=m)\n",
    "        print('<s>',end=' ')\n",
    "        for i in array:\n",
    "            for j in range(len(keys)):\n",
    "                if(i[j]==1):\n",
    "                    if(keys[j][0]=='</s>'):\n",
    "                        print(str(keys[j][0]),end=' ')\n",
    "                        return\n",
    "                    print(str(keys[j][0]),end=' ')\n",
    "        return\n",
    "    x=predict_first(gram,n)\n",
    "    b=[]\n",
    "    c=[]\n",
    "    keys, values = zip(*gram[n-1].items()) \n",
    "    values=list(values)\n",
    "    keys=list(keys)\n",
    "    print(*x,end=' ')\n",
    "    for i in range(m):\n",
    "        s=0\n",
    "        for j in keys:\n",
    "            l=list(j)\n",
    "#             print(l[:n-1],x)\n",
    "            if(l[:n-1]==x):\n",
    "                c.append(gram[n-1][j])\n",
    "                b.append(j)\n",
    "#                 print(j,x,\"Match\")\n",
    "                s=1\n",
    "        if(s==0):\n",
    "            break\n",
    "        array=np.random.multinomial(1 , c , size=1)\n",
    "        for k in range(len(array[0])):\n",
    "            if(array[0][k]==1):\n",
    "                print((list(b[k]))[-1],end=' ')\n",
    "                x=b[k][1:]\n",
    "        x=list(x)\n",
    "        c=[]\n",
    "        b=[]    "
   ]
  },
  {
   "cell_type": "code",
   "execution_count": 400,
   "metadata": {},
   "outputs": [
    {
     "name": "stdout",
     "output_type": "stream",
     "text": [
      "<s> Nobody cares </s> "
     ]
    }
   ],
   "source": [
    "MLE=[MLEU,MLEB,MLET,MLEQ]\n",
    "gram=[uni,big,tri,quad]\n",
    "n=[uc,bc,tc,qc]\n",
    "generator(MLE,4,100)\n"
   ]
  },
  {
   "cell_type": "code",
   "execution_count": 382,
   "metadata": {},
   "outputs": [],
   "source": [
    "def laplace(gram,n,MLE,k):\n",
    "    for i in range(4):\n",
    "        for j in gram[i]:\n",
    "            if(i==0):\n",
    "                MLE[i][j]=(gram[0][j]+k)/(n[0]+len(gram[0]))\n",
    "            else:\n",
    "                MLE[i][j]=(gram[i][j]+k)/(gram[i-1][j[:-1]]+k*(len(gram[0])))"
   ]
  },
  {
   "cell_type": "code",
   "execution_count": 410,
   "metadata": {},
   "outputs": [],
   "source": [
    "from math import log as log\n",
    "import math"
   ]
  },
  {
   "cell_type": "code",
   "execution_count": 464,
   "metadata": {},
   "outputs": [],
   "source": [
    "def perplexity(gram,MLE,xTest,n,k):\n",
    "    ans=0\n",
    "    \n",
    "    for i in xTest:\n",
    "        ngram = ngrams(sen.split(), n)\n",
    "        for x in n-gram:\n",
    "            if(x not in gram[n-1]):\n",
    "                if(n==1):\n",
    "                    ans+=log(n[0]+len(gram[0])/k)\n",
    "                elif(n==2):\n",
    "                    if()\n",
    "            else:\n",
    "                ans+=log(1/gram[n-1][x],2)\n",
    "    print(math.exp(2,(-1*ans/N))\n",
    "                "
   ]
  },
  {
   "cell_type": "code",
   "execution_count": 476,
   "metadata": {},
   "outputs": [],
   "source": [
    "l=perplexity(gram,MLE,xTest,4)"
   ]
  },
  {
   "cell_type": "code",
   "execution_count": 485,
   "metadata": {},
   "outputs": [
    {
     "data": {
      "text/plain": [
       "[['<s>', 'we', 'can’t'],\n",
       " ['we', 'can’t', '</s>'],\n",
       " ['<s>', 'unfortunately', 'after'],\n",
       " ['unfortunately', 'after', 'the'],\n",
       " ['after', 'the', 'cold'],\n",
       " ['the', 'cold', 'war'],\n",
       " ['cold', 'war', 'our'],\n",
       " ['war', 'our', 'foreign'],\n",
       " ['our', 'foreign', 'policy'],\n",
       " ['foreign', 'policy', 'veered'],\n",
       " ['policy', 'veered', 'badly'],\n",
       " ['veered', 'badly', 'off'],\n",
       " ['badly', 'off', 'course'],\n",
       " ['off', 'course', '</s>'],\n",
       " ['<s>', 'i', 'in'],\n",
       " ['i', 'in', 'a'],\n",
       " ['in', 'a', 'lot'],\n",
       " ['a', 'lot', 'of'],\n",
       " ['lot', 'of', 'money'],\n",
       " ['of', 'money', '</s>']]"
      ]
     },
     "execution_count": 485,
     "metadata": {},
     "output_type": "execute_result"
    }
   ],
   "source": [
    "a=[]\n",
    "for i in xTrain:\n",
    "    i=i.lower()\n",
    "    ngram = ngrams(i.split(),3)\n",
    "    for gram in ngram:\n",
    "        a.append(list(gram))"
   ]
  },
  {
   "cell_type": "code",
   "execution_count": 486,
   "metadata": {},
   "outputs": [],
   "source": [
    "from keras.preprocessing.text import Tokenizer"
   ]
  },
  {
   "cell_type": "code",
   "execution_count": 501,
   "metadata": {},
   "outputs": [],
   "source": [
    "t = Tokenizer()\n",
    "# fit the tokenizer on the documents\n",
    "t.fit_on_texts(a)\n",
    "b=t.texts_to_sequences(a)"
   ]
  },
  {
   "cell_type": "code",
   "execution_count": 531,
   "metadata": {},
   "outputs": [],
   "source": [
    "b = np.array(b)"
   ]
  },
  {
   "cell_type": "code",
   "execution_count": 540,
   "metadata": {},
   "outputs": [],
   "source": [
    "x_train=[]\n",
    "y_train=[]\n",
    "# for i in b:\n",
    "#     x_train.append(i[:-1])\n",
    "#     y_train.append(i[-1])\n",
    "x_train = b[:,:-1]\n",
    "y_train = b[:,-1]"
   ]
  },
  {
   "cell_type": "code",
   "execution_count": 533,
   "metadata": {},
   "outputs": [],
   "source": [
    "from keras.layers import SimpleRNN\n",
    "from keras.preprocessing.text import Tokenizer\n",
    "from keras.utils import to_categorical\n",
    "from keras.models import Sequential\n",
    "from keras.layers import Dense\n",
    "from keras.layers import LSTM\n",
    "from keras.layers import Embedding"
   ]
  },
  {
   "cell_type": "code",
   "execution_count": 534,
   "metadata": {},
   "outputs": [
    {
     "name": "stdout",
     "output_type": "stream",
     "text": [
      "_________________________________________________________________\n",
      "Layer (type)                 Output Shape              Param #   \n",
      "=================================================================\n",
      "embedding_4 (Embedding)      (None, 2, 50)             326400    \n",
      "_________________________________________________________________\n",
      "simple_rnn_7 (SimpleRNN)     (None, 2, 50)             5050      \n",
      "_________________________________________________________________\n",
      "simple_rnn_8 (SimpleRNN)     (None, 50)                5050      \n",
      "_________________________________________________________________\n",
      "dense_10 (Dense)             (None, 100)               5100      \n",
      "_________________________________________________________________\n",
      "dense_11 (Dense)             (None, 6528)              659328    \n",
      "=================================================================\n",
      "Total params: 1,000,928\n",
      "Trainable params: 1,000,928\n",
      "Non-trainable params: 0\n",
      "_________________________________________________________________\n"
     ]
    }
   ],
   "source": [
    "model = Sequential()\n",
    "model.add(Embedding(len(t.word_counts), 50, input_length=2))\n",
    "# if dropout > 0:\n",
    "#     model.add(Dropout(dropout))\n",
    "# model.add(Dense(len(words)))\n",
    "# model.add(Activation('softmax'))\n",
    "model.add(SimpleRNN(50, return_sequences=True))\n",
    "model.add(SimpleRNN(50))\n",
    "model.add(Dense(100, activation='relu'))\n",
    "model.add(Dense(len(t.word_counts), activation='softmax'))\n",
    "\n",
    "model.summary()"
   ]
  },
  {
   "cell_type": "code",
   "execution_count": 542,
   "metadata": {},
   "outputs": [
    {
     "ename": "ValueError",
     "evalue": "Error when checking target: expected dense_13 to have shape (6528,) but got array with shape (1,)",
     "output_type": "error",
     "traceback": [
      "\u001b[1;31m---------------------------------------------------------------------------\u001b[0m",
      "\u001b[1;31mValueError\u001b[0m                                Traceback (most recent call last)",
      "\u001b[1;32m<ipython-input-542-bf1c7e66f5ce>\u001b[0m in \u001b[0;36m<module>\u001b[1;34m\u001b[0m\n\u001b[0;32m      1\u001b[0m \u001b[0mmodel\u001b[0m\u001b[1;33m.\u001b[0m\u001b[0mcompile\u001b[0m\u001b[1;33m(\u001b[0m\u001b[0mloss\u001b[0m\u001b[1;33m=\u001b[0m\u001b[1;34m'categorical_crossentropy'\u001b[0m\u001b[1;33m,\u001b[0m \u001b[0moptimizer\u001b[0m\u001b[1;33m=\u001b[0m\u001b[1;34m'adam'\u001b[0m\u001b[1;33m,\u001b[0m \u001b[0mmetrics\u001b[0m\u001b[1;33m=\u001b[0m\u001b[1;33m[\u001b[0m\u001b[1;34m'accuracy'\u001b[0m\u001b[1;33m]\u001b[0m\u001b[1;33m)\u001b[0m\u001b[1;33m\u001b[0m\u001b[1;33m\u001b[0m\u001b[0m\n\u001b[1;32m----> 2\u001b[1;33m \u001b[0mhistory_rnn\u001b[0m \u001b[1;33m=\u001b[0m \u001b[0mmodel_rnn\u001b[0m\u001b[1;33m.\u001b[0m\u001b[0mfit\u001b[0m\u001b[1;33m(\u001b[0m\u001b[0mx_train\u001b[0m\u001b[1;33m,\u001b[0m \u001b[0my_train\u001b[0m\u001b[1;33m,\u001b[0m \u001b[0mbatch_size\u001b[0m\u001b[1;33m=\u001b[0m\u001b[1;36m128\u001b[0m\u001b[1;33m,\u001b[0m \u001b[0mepochs\u001b[0m\u001b[1;33m=\u001b[0m\u001b[1;36m10\u001b[0m\u001b[1;33m)\u001b[0m\u001b[1;33m\u001b[0m\u001b[1;33m\u001b[0m\u001b[0m\n\u001b[0m",
      "\u001b[1;32m~\\Anaconda3\\lib\\site-packages\\keras\\engine\\training.py\u001b[0m in \u001b[0;36mfit\u001b[1;34m(self, x, y, batch_size, epochs, verbose, callbacks, validation_split, validation_data, shuffle, class_weight, sample_weight, initial_epoch, steps_per_epoch, validation_steps, **kwargs)\u001b[0m\n\u001b[0;32m    950\u001b[0m             \u001b[0msample_weight\u001b[0m\u001b[1;33m=\u001b[0m\u001b[0msample_weight\u001b[0m\u001b[1;33m,\u001b[0m\u001b[1;33m\u001b[0m\u001b[1;33m\u001b[0m\u001b[0m\n\u001b[0;32m    951\u001b[0m             \u001b[0mclass_weight\u001b[0m\u001b[1;33m=\u001b[0m\u001b[0mclass_weight\u001b[0m\u001b[1;33m,\u001b[0m\u001b[1;33m\u001b[0m\u001b[1;33m\u001b[0m\u001b[0m\n\u001b[1;32m--> 952\u001b[1;33m             batch_size=batch_size)\n\u001b[0m\u001b[0;32m    953\u001b[0m         \u001b[1;31m# Prepare validation data.\u001b[0m\u001b[1;33m\u001b[0m\u001b[1;33m\u001b[0m\u001b[1;33m\u001b[0m\u001b[0m\n\u001b[0;32m    954\u001b[0m         \u001b[0mdo_validation\u001b[0m \u001b[1;33m=\u001b[0m \u001b[1;32mFalse\u001b[0m\u001b[1;33m\u001b[0m\u001b[1;33m\u001b[0m\u001b[0m\n",
      "\u001b[1;32m~\\Anaconda3\\lib\\site-packages\\keras\\engine\\training.py\u001b[0m in \u001b[0;36m_standardize_user_data\u001b[1;34m(self, x, y, sample_weight, class_weight, check_array_lengths, batch_size)\u001b[0m\n\u001b[0;32m    787\u001b[0m                 \u001b[0mfeed_output_shapes\u001b[0m\u001b[1;33m,\u001b[0m\u001b[1;33m\u001b[0m\u001b[1;33m\u001b[0m\u001b[0m\n\u001b[0;32m    788\u001b[0m                 \u001b[0mcheck_batch_axis\u001b[0m\u001b[1;33m=\u001b[0m\u001b[1;32mFalse\u001b[0m\u001b[1;33m,\u001b[0m  \u001b[1;31m# Don't enforce the batch size.\u001b[0m\u001b[1;33m\u001b[0m\u001b[1;33m\u001b[0m\u001b[0m\n\u001b[1;32m--> 789\u001b[1;33m                 exception_prefix='target')\n\u001b[0m\u001b[0;32m    790\u001b[0m \u001b[1;33m\u001b[0m\u001b[0m\n\u001b[0;32m    791\u001b[0m             \u001b[1;31m# Generate sample-wise weight values given the `sample_weight` and\u001b[0m\u001b[1;33m\u001b[0m\u001b[1;33m\u001b[0m\u001b[1;33m\u001b[0m\u001b[0m\n",
      "\u001b[1;32m~\\Anaconda3\\lib\\site-packages\\keras\\engine\\training_utils.py\u001b[0m in \u001b[0;36mstandardize_input_data\u001b[1;34m(data, names, shapes, check_batch_axis, exception_prefix)\u001b[0m\n\u001b[0;32m    136\u001b[0m                             \u001b[1;34m': expected '\u001b[0m \u001b[1;33m+\u001b[0m \u001b[0mnames\u001b[0m\u001b[1;33m[\u001b[0m\u001b[0mi\u001b[0m\u001b[1;33m]\u001b[0m \u001b[1;33m+\u001b[0m \u001b[1;34m' to have shape '\u001b[0m \u001b[1;33m+\u001b[0m\u001b[1;33m\u001b[0m\u001b[1;33m\u001b[0m\u001b[0m\n\u001b[0;32m    137\u001b[0m                             \u001b[0mstr\u001b[0m\u001b[1;33m(\u001b[0m\u001b[0mshape\u001b[0m\u001b[1;33m)\u001b[0m \u001b[1;33m+\u001b[0m \u001b[1;34m' but got array with shape '\u001b[0m \u001b[1;33m+\u001b[0m\u001b[1;33m\u001b[0m\u001b[1;33m\u001b[0m\u001b[0m\n\u001b[1;32m--> 138\u001b[1;33m                             str(data_shape))\n\u001b[0m\u001b[0;32m    139\u001b[0m     \u001b[1;32mreturn\u001b[0m \u001b[0mdata\u001b[0m\u001b[1;33m\u001b[0m\u001b[1;33m\u001b[0m\u001b[0m\n\u001b[0;32m    140\u001b[0m \u001b[1;33m\u001b[0m\u001b[0m\n",
      "\u001b[1;31mValueError\u001b[0m: Error when checking target: expected dense_13 to have shape (6528,) but got array with shape (1,)"
     ]
    }
   ],
   "source": [
    "model.compile(loss='categorical_crossentropy', optimizer='adam', metrics=['accuracy'])\n",
    "history_rnn = model_rnn.fit(x_train, y_train, batch_size=128, epochs=10)"
   ]
  },
  {
   "cell_type": "code",
   "execution_count": 536,
   "metadata": {},
   "outputs": [
    {
     "ename": "MemoryError",
     "evalue": "",
     "output_type": "error",
     "traceback": [
      "\u001b[1;31m---------------------------------------------------------------------------\u001b[0m",
      "\u001b[1;31mMemoryError\u001b[0m                               Traceback (most recent call last)",
      "\u001b[1;32m<ipython-input-536-1d18b5f73711>\u001b[0m in \u001b[0;36m<module>\u001b[1;34m\u001b[0m\n\u001b[1;32m----> 1\u001b[1;33m \u001b[0my_train\u001b[0m\u001b[1;33m=\u001b[0m \u001b[0mto_categorical\u001b[0m\u001b[1;33m(\u001b[0m\u001b[0my_train\u001b[0m\u001b[1;33m,\u001b[0m \u001b[0mnum_classes\u001b[0m\u001b[1;33m=\u001b[0m\u001b[0mlen\u001b[0m\u001b[1;33m(\u001b[0m\u001b[0mt\u001b[0m\u001b[1;33m.\u001b[0m\u001b[0mword_counts\u001b[0m\u001b[1;33m)\u001b[0m\u001b[1;33m)\u001b[0m\u001b[1;33m\u001b[0m\u001b[1;33m\u001b[0m\u001b[0m\n\u001b[0m",
      "\u001b[1;32m~\\Anaconda3\\lib\\site-packages\\keras\\utils\\np_utils.py\u001b[0m in \u001b[0;36mto_categorical\u001b[1;34m(y, num_classes, dtype)\u001b[0m\n\u001b[0;32m     31\u001b[0m         \u001b[0mnum_classes\u001b[0m \u001b[1;33m=\u001b[0m \u001b[0mnp\u001b[0m\u001b[1;33m.\u001b[0m\u001b[0mmax\u001b[0m\u001b[1;33m(\u001b[0m\u001b[0my\u001b[0m\u001b[1;33m)\u001b[0m \u001b[1;33m+\u001b[0m \u001b[1;36m1\u001b[0m\u001b[1;33m\u001b[0m\u001b[1;33m\u001b[0m\u001b[0m\n\u001b[0;32m     32\u001b[0m     \u001b[0mn\u001b[0m \u001b[1;33m=\u001b[0m \u001b[0my\u001b[0m\u001b[1;33m.\u001b[0m\u001b[0mshape\u001b[0m\u001b[1;33m[\u001b[0m\u001b[1;36m0\u001b[0m\u001b[1;33m]\u001b[0m\u001b[1;33m\u001b[0m\u001b[1;33m\u001b[0m\u001b[0m\n\u001b[1;32m---> 33\u001b[1;33m     \u001b[0mcategorical\u001b[0m \u001b[1;33m=\u001b[0m \u001b[0mnp\u001b[0m\u001b[1;33m.\u001b[0m\u001b[0mzeros\u001b[0m\u001b[1;33m(\u001b[0m\u001b[1;33m(\u001b[0m\u001b[0mn\u001b[0m\u001b[1;33m,\u001b[0m \u001b[0mnum_classes\u001b[0m\u001b[1;33m)\u001b[0m\u001b[1;33m,\u001b[0m \u001b[0mdtype\u001b[0m\u001b[1;33m=\u001b[0m\u001b[0mdtype\u001b[0m\u001b[1;33m)\u001b[0m\u001b[1;33m\u001b[0m\u001b[1;33m\u001b[0m\u001b[0m\n\u001b[0m\u001b[0;32m     34\u001b[0m     \u001b[0mcategorical\u001b[0m\u001b[1;33m[\u001b[0m\u001b[0mnp\u001b[0m\u001b[1;33m.\u001b[0m\u001b[0marange\u001b[0m\u001b[1;33m(\u001b[0m\u001b[0mn\u001b[0m\u001b[1;33m)\u001b[0m\u001b[1;33m,\u001b[0m \u001b[0my\u001b[0m\u001b[1;33m]\u001b[0m \u001b[1;33m=\u001b[0m \u001b[1;36m1\u001b[0m\u001b[1;33m\u001b[0m\u001b[1;33m\u001b[0m\u001b[0m\n\u001b[0;32m     35\u001b[0m     \u001b[0moutput_shape\u001b[0m \u001b[1;33m=\u001b[0m \u001b[0minput_shape\u001b[0m \u001b[1;33m+\u001b[0m \u001b[1;33m(\u001b[0m\u001b[0mnum_classes\u001b[0m\u001b[1;33m,\u001b[0m\u001b[1;33m)\u001b[0m\u001b[1;33m\u001b[0m\u001b[1;33m\u001b[0m\u001b[0m\n",
      "\u001b[1;31mMemoryError\u001b[0m: "
     ]
    }
   ],
   "source": [
    "y_train= to_categorical(y_train, num_classes=len(t.word_counts))"
   ]
  },
  {
   "cell_type": "code",
   "execution_count": 545,
   "metadata": {},
   "outputs": [
    {
     "name": "stdout",
     "output_type": "stream",
     "text": [
      "_________________________________________________________________\n",
      "Layer (type)                 Output Shape              Param #   \n",
      "=================================================================\n",
      "embedding_6 (Embedding)      (None, 2, 50)             326400    \n",
      "_________________________________________________________________\n",
      "simple_rnn_11 (SimpleRNN)    (None, 2, 25)             1900      \n",
      "_________________________________________________________________\n",
      "simple_rnn_12 (SimpleRNN)    (None, 25)                1275      \n",
      "_________________________________________________________________\n",
      "dense_14 (Dense)             (None, 50)                1300      \n",
      "_________________________________________________________________\n",
      "dense_15 (Dense)             (None, 6528)              332928    \n",
      "=================================================================\n",
      "Total params: 663,803\n",
      "Trainable params: 663,803\n",
      "Non-trainable params: 0\n",
      "_________________________________________________________________\n"
     ]
    }
   ],
   "source": [
    "# VANILLA RNN MODEL\n",
    "from keras.layers import SimpleRNN\n",
    "vocab_size=len(t.word_counts)\n",
    "model_rnn = Sequential()\n",
    "model_rnn.add(Embedding(vocab_size, 50, input_length=2))\n",
    "model_rnn.add(SimpleRNN(25, return_sequences=True))\n",
    "model_rnn.add(SimpleRNN(25))\n",
    "model_rnn.add(Dense(50, activation='relu'))\n",
    "model_rnn.add(Dense(vocab_size, activation='softmax'))\n",
    "\n",
    "model_rnn.summary()"
   ]
  },
  {
   "cell_type": "code",
   "execution_count": 550,
   "metadata": {},
   "outputs": [
    {
     "ename": "ValueError",
     "evalue": "Error when checking target: expected dense_15 to have shape (6528,) but got array with shape (1,)",
     "output_type": "error",
     "traceback": [
      "\u001b[1;31m---------------------------------------------------------------------------\u001b[0m",
      "\u001b[1;31mValueError\u001b[0m                                Traceback (most recent call last)",
      "\u001b[1;32m<ipython-input-550-845c6c4ac400>\u001b[0m in \u001b[0;36m<module>\u001b[1;34m\u001b[0m\n\u001b[0;32m      1\u001b[0m \u001b[0mmodel_rnn\u001b[0m\u001b[1;33m.\u001b[0m\u001b[0mcompile\u001b[0m\u001b[1;33m(\u001b[0m\u001b[0mloss\u001b[0m\u001b[1;33m=\u001b[0m\u001b[1;34m'categorical_crossentropy'\u001b[0m\u001b[1;33m,\u001b[0m \u001b[0moptimizer\u001b[0m\u001b[1;33m=\u001b[0m\u001b[1;34m'adam'\u001b[0m\u001b[1;33m,\u001b[0m \u001b[0mmetrics\u001b[0m\u001b[1;33m=\u001b[0m\u001b[1;33m[\u001b[0m\u001b[1;34m'accuracy'\u001b[0m\u001b[1;33m]\u001b[0m\u001b[1;33m)\u001b[0m\u001b[1;33m\u001b[0m\u001b[1;33m\u001b[0m\u001b[0m\n\u001b[1;32m----> 2\u001b[1;33m \u001b[0mhistory_rnn\u001b[0m \u001b[1;33m=\u001b[0m \u001b[0mmodel_rnn\u001b[0m\u001b[1;33m.\u001b[0m\u001b[0mfit\u001b[0m\u001b[1;33m(\u001b[0m\u001b[0mx_train\u001b[0m\u001b[1;33m,\u001b[0m \u001b[0my_train\u001b[0m\u001b[1;33m,\u001b[0m \u001b[0mbatch_size\u001b[0m\u001b[1;33m=\u001b[0m\u001b[1;36m128\u001b[0m\u001b[1;33m,\u001b[0m \u001b[0mepochs\u001b[0m\u001b[1;33m=\u001b[0m\u001b[1;36m10\u001b[0m\u001b[1;33m)\u001b[0m\u001b[1;33m\u001b[0m\u001b[1;33m\u001b[0m\u001b[0m\n\u001b[0m",
      "\u001b[1;32m~\\Anaconda3\\lib\\site-packages\\keras\\engine\\training.py\u001b[0m in \u001b[0;36mfit\u001b[1;34m(self, x, y, batch_size, epochs, verbose, callbacks, validation_split, validation_data, shuffle, class_weight, sample_weight, initial_epoch, steps_per_epoch, validation_steps, **kwargs)\u001b[0m\n\u001b[0;32m    950\u001b[0m             \u001b[0msample_weight\u001b[0m\u001b[1;33m=\u001b[0m\u001b[0msample_weight\u001b[0m\u001b[1;33m,\u001b[0m\u001b[1;33m\u001b[0m\u001b[1;33m\u001b[0m\u001b[0m\n\u001b[0;32m    951\u001b[0m             \u001b[0mclass_weight\u001b[0m\u001b[1;33m=\u001b[0m\u001b[0mclass_weight\u001b[0m\u001b[1;33m,\u001b[0m\u001b[1;33m\u001b[0m\u001b[1;33m\u001b[0m\u001b[0m\n\u001b[1;32m--> 952\u001b[1;33m             batch_size=batch_size)\n\u001b[0m\u001b[0;32m    953\u001b[0m         \u001b[1;31m# Prepare validation data.\u001b[0m\u001b[1;33m\u001b[0m\u001b[1;33m\u001b[0m\u001b[1;33m\u001b[0m\u001b[0m\n\u001b[0;32m    954\u001b[0m         \u001b[0mdo_validation\u001b[0m \u001b[1;33m=\u001b[0m \u001b[1;32mFalse\u001b[0m\u001b[1;33m\u001b[0m\u001b[1;33m\u001b[0m\u001b[0m\n",
      "\u001b[1;32m~\\Anaconda3\\lib\\site-packages\\keras\\engine\\training.py\u001b[0m in \u001b[0;36m_standardize_user_data\u001b[1;34m(self, x, y, sample_weight, class_weight, check_array_lengths, batch_size)\u001b[0m\n\u001b[0;32m    787\u001b[0m                 \u001b[0mfeed_output_shapes\u001b[0m\u001b[1;33m,\u001b[0m\u001b[1;33m\u001b[0m\u001b[1;33m\u001b[0m\u001b[0m\n\u001b[0;32m    788\u001b[0m                 \u001b[0mcheck_batch_axis\u001b[0m\u001b[1;33m=\u001b[0m\u001b[1;32mFalse\u001b[0m\u001b[1;33m,\u001b[0m  \u001b[1;31m# Don't enforce the batch size.\u001b[0m\u001b[1;33m\u001b[0m\u001b[1;33m\u001b[0m\u001b[0m\n\u001b[1;32m--> 789\u001b[1;33m                 exception_prefix='target')\n\u001b[0m\u001b[0;32m    790\u001b[0m \u001b[1;33m\u001b[0m\u001b[0m\n\u001b[0;32m    791\u001b[0m             \u001b[1;31m# Generate sample-wise weight values given the `sample_weight` and\u001b[0m\u001b[1;33m\u001b[0m\u001b[1;33m\u001b[0m\u001b[1;33m\u001b[0m\u001b[0m\n",
      "\u001b[1;32m~\\Anaconda3\\lib\\site-packages\\keras\\engine\\training_utils.py\u001b[0m in \u001b[0;36mstandardize_input_data\u001b[1;34m(data, names, shapes, check_batch_axis, exception_prefix)\u001b[0m\n\u001b[0;32m    136\u001b[0m                             \u001b[1;34m': expected '\u001b[0m \u001b[1;33m+\u001b[0m \u001b[0mnames\u001b[0m\u001b[1;33m[\u001b[0m\u001b[0mi\u001b[0m\u001b[1;33m]\u001b[0m \u001b[1;33m+\u001b[0m \u001b[1;34m' to have shape '\u001b[0m \u001b[1;33m+\u001b[0m\u001b[1;33m\u001b[0m\u001b[1;33m\u001b[0m\u001b[0m\n\u001b[0;32m    137\u001b[0m                             \u001b[0mstr\u001b[0m\u001b[1;33m(\u001b[0m\u001b[0mshape\u001b[0m\u001b[1;33m)\u001b[0m \u001b[1;33m+\u001b[0m \u001b[1;34m' but got array with shape '\u001b[0m \u001b[1;33m+\u001b[0m\u001b[1;33m\u001b[0m\u001b[1;33m\u001b[0m\u001b[0m\n\u001b[1;32m--> 138\u001b[1;33m                             str(data_shape))\n\u001b[0m\u001b[0;32m    139\u001b[0m     \u001b[1;32mreturn\u001b[0m \u001b[0mdata\u001b[0m\u001b[1;33m\u001b[0m\u001b[1;33m\u001b[0m\u001b[0m\n\u001b[0;32m    140\u001b[0m \u001b[1;33m\u001b[0m\u001b[0m\n",
      "\u001b[1;31mValueError\u001b[0m: Error when checking target: expected dense_15 to have shape (6528,) but got array with shape (1,)"
     ]
    }
   ],
   "source": [
    "model_rnn.compile(loss='categorical_crossentropy', optimizer='adam', metrics=['accuracy'])\n",
    "history_rnn = model_rnn.fit(x_train, y_train, batch_size=128, epochs=10)"
   ]
  },
  {
   "cell_type": "code",
   "execution_count": 549,
   "metadata": {},
   "outputs": [
    {
     "data": {
      "text/plain": [
       "((135034, 2), (135034,))"
      ]
     },
     "execution_count": 549,
     "metadata": {},
     "output_type": "execute_result"
    }
   ],
   "source": [
    "np.shape(x_train),np.shape(y_train)"
   ]
  },
  {
   "cell_type": "code",
   "execution_count": 552,
   "metadata": {},
   "outputs": [
    {
     "name": "stdout",
     "output_type": "stream",
     "text": [
      "6529\n",
      "_________________________________________________________________\n",
      "Layer (type)                 Output Shape              Param #   \n",
      "=================================================================\n",
      "embedding_7 (Embedding)      (None, 2, 50)             326450    \n",
      "_________________________________________________________________\n",
      "simple_rnn_13 (SimpleRNN)    (None, 2, 25)             1900      \n",
      "_________________________________________________________________\n",
      "simple_rnn_14 (SimpleRNN)    (None, 25)                1275      \n",
      "_________________________________________________________________\n",
      "dense_16 (Dense)             (None, 50)                1300      \n",
      "_________________________________________________________________\n",
      "dense_17 (Dense)             (None, 6529)              332979    \n",
      "=================================================================\n",
      "Total params: 663,904\n",
      "Trainable params: 663,904\n",
      "Non-trainable params: 0\n",
      "_________________________________________________________________\n",
      "Epoch 1/10\n",
      "135034/135034 [==============================] - 46s 338us/step - loss: 5.8593 - acc: 0.1244\n",
      "Epoch 2/10\n",
      "135034/135034 [==============================] - 39s 286us/step - loss: 5.0528 - acc: 0.1876\n",
      "Epoch 3/10\n",
      "135034/135034 [==============================] - 42s 314us/step - loss: 4.7403 - acc: 0.2085\n",
      "Epoch 4/10\n",
      "135034/135034 [==============================] - 37s 277us/step - loss: 4.5414 - acc: 0.2190\n",
      "Epoch 5/10\n",
      "135034/135034 [==============================] - 38s 281us/step - loss: 4.3844 - acc: 0.2302\n",
      "Epoch 6/10\n",
      "135034/135034 [==============================] - 37s 274us/step - loss: 4.2507 - acc: 0.2395\n",
      "Epoch 7/10\n",
      "135034/135034 [==============================] - 42s 308us/step - loss: 4.1310 - acc: 0.2485\n",
      "Epoch 8/10\n",
      "135034/135034 [==============================] - 50s 371us/step - loss: 4.0246 - acc: 0.2561\n",
      "Epoch 9/10\n",
      "135034/135034 [==============================] - 41s 300us/step - loss: 3.9276 - acc: 0.2630\n",
      "Epoch 10/10\n",
      "135034/135034 [==============================] - 37s 276us/step - loss: 3.8405 - acc: 0.2698\n"
     ]
    }
   ],
   "source": [
    "# NEURAL APPROACH\n",
    "sequences = list()\n",
    "n_gram = 3\n",
    "\n",
    "\n",
    "# integer encode sequences of words\n",
    "tokenizer = Tokenizer()\n",
    "tokenizer.fit_on_texts(a)\n",
    "sequences_intEncoded = tokenizer.texts_to_sequences(a)\n",
    "\n",
    "# vocabulary size\n",
    "vocab_size = len(tokenizer.word_index) + 1\n",
    "print(vocab_size)\n",
    "\n",
    "sequences_intEncoded[:10]\n",
    "\n",
    "sequences_intEncoded = np.array(sequences_intEncoded)\n",
    "np.shape(sequences)\n",
    "\n",
    "X = sequences_intEncoded[:,:-1]\n",
    "y = sequences_intEncoded[:,-1]\n",
    "\n",
    "y = to_categorical(y, num_classes=vocab_size)\n",
    "\n",
    "# VANILLA RNN MODEL\n",
    "from keras.layers import SimpleRNN\n",
    "\n",
    "model_rnn = Sequential()\n",
    "model_rnn.add(Embedding(vocab_size, 50, input_length=n_gram-1))\n",
    "model_rnn.add(SimpleRNN(25, return_sequences=True))\n",
    "model_rnn.add(SimpleRNN(25))\n",
    "model_rnn.add(Dense(50, activation='relu'))\n",
    "model_rnn.add(Dense(vocab_size, activation='softmax'))\n",
    "\n",
    "model_rnn.summary()\n",
    "\n",
    "model_rnn.compile(loss='categorical_crossentropy', optimizer='adam', metrics=['accuracy'])\n",
    "history_rnn = model_rnn.fit(X, y, batch_size=128, epochs=10)"
   ]
  },
  {
   "cell_type": "code",
   "execution_count": null,
   "metadata": {},
   "outputs": [],
   "source": []
  }
 ],
 "metadata": {
  "kernelspec": {
   "display_name": "Python 3",
   "language": "python",
   "name": "python3"
  },
  "language_info": {
   "codemirror_mode": {
    "name": "ipython",
    "version": 3
   },
   "file_extension": ".py",
   "mimetype": "text/x-python",
   "name": "python",
   "nbconvert_exporter": "python",
   "pygments_lexer": "ipython3",
   "version": "3.7.3"
  }
 },
 "nbformat": 4,
 "nbformat_minor": 2
}

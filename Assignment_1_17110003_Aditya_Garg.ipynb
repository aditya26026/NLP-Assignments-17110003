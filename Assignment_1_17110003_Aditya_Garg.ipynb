{
  "nbformat": 4,
  "nbformat_minor": 0,
  "metadata": {
    "colab": {
      "name": "Assignment-1-17110003-Aditya Garg.ipynb",
      "version": "0.3.2",
      "provenance": []
    },
    "kernelspec": {
      "name": "python3",
      "display_name": "Python 3"
    }
  },
  "cells": [
    {
      "cell_type": "code",
      "metadata": {
        "id": "PjVlbOyn3iry",
        "colab_type": "code",
        "colab": {}
      },
      "source": [
        "import random, matplotlib.pyplot as plt\n",
        "from collections import defaultdict"
      ],
      "execution_count": 0,
      "outputs": []
    },
    {
      "cell_type": "code",
      "metadata": {
        "id": "lS7SfSQB4544",
        "colab_type": "code",
        "outputId": "338767f5-9b40-4422-e44f-8482e9f41008",
        "colab": {
          "base_uri": "https://localhost:8080/",
          "height": 85
        }
      },
      "source": [
        "import pandas as pd\n",
        "import nltk\n",
        "import re\n",
        "nltk.download('punkt')\n",
        "nltk.download('wordnet')\n",
        "from nltk.corpus import wordnet\n",
        "data = pd.read_csv(\"/content/tweets-dataset.csv\") \n",
        "arr=[]\n",
        "for datas in data['Sentence']:\n",
        "  dat=datas\n",
        "  dat=re.sub(r'http/(?:url|URL)|#[/A-Za-z0-9_]+|@[A-Za-z0-9_]+|https?://(?:[A-Za-z0-9]|[./])+','',dat)\n",
        "  dat=re.sub(r'twitter.com(?:[A-Za-z0-9]|[./])+','',dat)\n",
        "  dat=re.sub(r'[^A-Za-z ]+',' ',dat)\n",
        "  arr.append(dat)"
      ],
      "execution_count": 77,
      "outputs": [
        {
          "output_type": "stream",
          "text": [
            "[nltk_data] Downloading package punkt to /root/nltk_data...\n",
            "[nltk_data]   Package punkt is already up-to-date!\n",
            "[nltk_data] Downloading package wordnet to /root/nltk_data...\n",
            "[nltk_data]   Package wordnet is already up-to-date!\n"
          ],
          "name": "stdout"
        }
      ]
    },
    {
      "cell_type": "markdown",
      "metadata": {
        "id": "kFH2a_P6E3bh",
        "colab_type": "text"
      },
      "source": [
        "# Question 1"
      ]
    },
    {
      "cell_type": "code",
      "metadata": {
        "id": "8z5AMRMF6Mfl",
        "colab_type": "code",
        "outputId": "56418bd5-a1ef-405d-a7c5-01a6ecd127cd",
        "colab": {
          "base_uri": "https://localhost:8080/",
          "height": 34
        }
      },
      "source": [
        "tokens=list()\n",
        "tknzr=nltk.TweetTokenizer() #for tokenisation i have used TweetTokenizer\n",
        "for words in arr:\n",
        "  token = tknzr.tokenize(words)\n",
        "  tokens.extend(token)\n",
        "types=set(tokens)\n",
        "ttr=len(types)/len(tokens)\n",
        "print(\"Tokens: {},\".format(len(tokens)),\"Types: {},\".format(len(types)),\"TTR: {}\".format(ttr),sep=\"\\t\")"
      ],
      "execution_count": 78,
      "outputs": [
        {
          "output_type": "stream",
          "text": [
            "Tokens: 290656,\tTypes: 36913,\tTTR: 0.12699892656611253\n"
          ],
          "name": "stdout"
        }
      ]
    },
    {
      "cell_type": "markdown",
      "metadata": {
        "id": "5edg5Hj0E7w9",
        "colab_type": "text"
      },
      "source": [
        "#Question 2"
      ]
    },
    {
      "cell_type": "code",
      "metadata": {
        "id": "BsWc9Se_1m_5",
        "colab_type": "code",
        "outputId": "cd3860b7-fc06-4d6a-b810-a3eb2634e7f8",
        "colab": {
          "base_uri": "https://localhost:8080/",
          "height": 320
        }
      },
      "source": [
        "import math\n",
        "word=random.choices(list(types),k=1000)\n",
        "\n",
        "numbofmean = list()\n",
        "for i in word:\n",
        "\tlword=set()\n",
        "\tfor syn in wordnet.synsets(i):\n",
        "\t\tfor l in syn.lemmas():\n",
        "\t\t\tlword.add(l.name())\n",
        "\tif len(lword)!=0:\n",
        "\t\tnumbofmean.append([len(i),len(lword)])\n",
        "\n",
        "\n",
        "length=[math.sqrt(i[0])*i[1] for i in numbofmean] #sqrt(length of word)* (number of meanings) = constant according to Zipf's Law.\n",
        "number=[i for i in range (len(numbofmean))]\n",
        "\n",
        "plt.xlabel('numbers')\n",
        "plt.ylabel('sqrt(length)* number of meanings')\n",
        "plt.scatter(number,length,c=(0,0,1))\n",
        "plt.show() "
      ],
      "execution_count": 84,
      "outputs": [
        {
          "output_type": "stream",
          "text": [
            "'c' argument looks like a single numeric RGB or RGBA sequence, which should be avoided as value-mapping will have precedence in case its length matches with 'x' & 'y'.  Please use a 2-D array with a single row if you really want to specify the same RGB or RGBA value for all points.\n"
          ],
          "name": "stderr"
        },
        {
          "output_type": "display_data",
          "data": {
            "image/png": "[encoded data removed]",
            "text/plain": [
              "<Figure size 432x288 with 1 Axes>"
            ]
          },
          "metadata": {
            "tags": []
          }
        }
      ]
    },
    {
      "cell_type": "markdown",
      "metadata": {
        "id": "tFtrAo7AFAQQ",
        "colab_type": "text"
      },
      "source": [
        "#Question 3"
      ]
    },
    {
      "cell_type": "code",
      "metadata": {
        "id": "nh5M-9jH36rg",
        "colab_type": "code",
        "outputId": "5cbb3c24-293b-4b39-cb05-63320c3ccc59",
        "colab": {
          "base_uri": "https://localhost:8080/",
          "height": 283
        }
      },
      "source": [
        "arrx=[]\n",
        "arry=[]\n",
        "i=0\n",
        "types=set()\n",
        "for token in tokens:\n",
        "  arrx.append(i+1)\n",
        "  types.add(token)\n",
        "  arry.append(len(types))\n",
        "  i=i+1\n",
        "plt.xlabel('Size of corpus N')\n",
        "plt.ylabel('Vocabulary size |V|')\n",
        "plt.plot(arrx,arry)\n",
        "plt.show()  "
      ],
      "execution_count": 80,
      "outputs": [
        {
          "output_type": "display_data",
          "data": {
            "image/png": "[encoded data removed]",
            "text/plain": [
              "<Figure size 432x288 with 1 Axes>"
            ]
          },
          "metadata": {
            "tags": []
          }
        }
      ]
    }
  ]
}